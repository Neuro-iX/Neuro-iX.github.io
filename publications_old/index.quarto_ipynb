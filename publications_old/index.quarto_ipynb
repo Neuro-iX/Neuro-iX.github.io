{
  "cells": [
    {
      "cell_type": "raw",
      "metadata": {},
      "source": [
        "---\n",
        "title: Publications\n",
        "filters:\n",
        "  - remove_title\n",
        "listing:\n",
        "  contents: posts\n",
        "  sort:\n",
        "    - date desc\n",
        "    - title desc\n",
        "  type: default\n",
        "  categories: true\n",
        "  sort-ui: true\n",
        "  filter-ui: true\n",
        "  fields:\n",
        "    - date\n",
        "    - title\n",
        "    - author\n",
        "    - categories\n",
        "    - description\n",
        "  date-format: YYYY-MM-DD\n",
        "toc: false\n",
        "toc-location: body\n",
        "page-layout: full\n",
        "title-block-banner: false\n",
        "---"
      ],
      "id": "bff168ef"
    }
  ],
  "metadata": {
    "kernelspec": {
      "name": "python3",
      "language": "python",
      "display_name": "Python 3 (ipykernel)",
      "path": "/home/bverreman/miniconda3/envs/rpy/share/jupyter/kernels/python3"
    }
  },
  "nbformat": 4,
  "nbformat_minor": 5
}