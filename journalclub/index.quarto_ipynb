{
 "cells": [
  {
   "cell_type": "markdown",
   "id": "97d0deca",
   "metadata": {},
   "source": [
    "---\n",
    "title: \"Journal Club\"\n",
    "filters:\n",
    "  - remove_title\n",
    "listing:\n",
    "  contents: posts # Directory containing the posts\n",
    "  sort: \n",
    "    - \"date desc\"\n",
    "    - \"title desc\"\n",
    "  type: default #Three kinds of display : Default, table or grid\n",
    "  categories: true #Enable categories\n",
    "  sort-ui: true #Enable sorting bar\n",
    "  filter-ui: true\n",
    "  #feed: true\n",
    "  fields: [date, title, author, categories, description]\n",
    "  date-format: \"YYYY-MM-DD\"\n",
    "  \n",
    "toc: false\n",
    "toc-location: body\n",
    "page-layout: full\n",
    "title-block-banner: false\n",
    "\n",
    "jupyter: python3\n",
    "---\n",
    "\n",
    "Welcome to the weekly Jounal Club, where relevant articles and tools are presented by the Neuro-iX lab !"
   ]
  }
 ],
 "metadata": {
  "kernelspec": {
   "display_name": "Python 3 (ipykernel)",
   "language": "python",
   "name": "python3",
   "path": "/home/bverreman/miniconda3/envs/website/share/jupyter/kernels/python3"
  },
  "language_info": {
   "codemirror_mode": {
    "name": "ipython",
    "version": 3
   },
   "file_extension": ".py",
   "mimetype": "text/x-python",
   "name": "python",
   "nbconvert_exporter": "python",
   "pygments_lexer": "ipython3",
   "version": "3.10.18"
  }
 },
 "nbformat": 4,
 "nbformat_minor": 5
}
