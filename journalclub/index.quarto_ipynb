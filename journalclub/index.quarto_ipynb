{
  "cells": [
    {
      "cell_type": "markdown",
      "metadata": {},
      "source": [
        "---\n",
        "title: \"Journal Club\"\n",
        "pagetitle: \"Journal Club\"\n",
        "filters:\n",
        "  - remove_title\n",
        "listing:\n",
        "  contents: posts # Directory containing the posts\n",
        "  sort: \n",
        "    - \"date desc\"\n",
        "    - \"title desc\"\n",
        "  type: default #Three kinds of display : Default, table or grid\n",
        "  categories: true #Enable categories\n",
        "  sort-ui: true #Enable sorting bar\n",
        "  filter-ui: true\n",
        "  #feed: true\n",
        "  fields: [date, title, author, categories, description]\n",
        "  date-format: \"YYYY-MM-DD\"\n",
        "  \n",
        "toc: false\n",
        "toc-location: body\n",
        "page-layout: full\n",
        "title-block-banner: false\n",
        "\n",
        "jupyter: python3\n",
        "---\n",
        "\n",
        "Welcome to the weekly Jounal Club, where relevant articles and tools are presented by the Neuro-iX lab !"
      ],
      "id": "6586eabf"
    }
  ],
  "metadata": {
    "kernelspec": {
      "name": "python3",
      "language": "python",
      "display_name": "Python 3 (ipykernel)",
      "path": "/home/bverreman/miniconda3/envs/website/share/jupyter/kernels/python3"
    }
  },
  "nbformat": 4,
  "nbformat_minor": 5
}