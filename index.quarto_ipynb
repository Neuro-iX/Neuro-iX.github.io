{
  "cells": [
    {
      "cell_type": "raw",
      "metadata": {},
      "source": [
        "---\n",
        "title: Neuro-iX\n",
        "filters:\n",
        "  - remove_title\n",
        "execute:\n",
        "  python: /home/bverreman/miniconda3/envs/website/bin/python\n",
        "format:\n",
        "  html:\n",
        "    toc: false\n",
        "    html-math-method: katex\n",
        "    css: styles.css\n",
        "---"
      ],
      "id": "fab6100e"
    },
    {
      "cell_type": "markdown",
      "metadata": {},
      "source": [
        "<!-- "
      ],
      "id": "67efd61e"
    },
    {
      "cell_type": "raw",
      "metadata": {},
      "source": [
        "---\n",
        "#subtitle: \"Neuro-iX <br> Lab of Neuro-informatics <br> École de Technologie Supérieure\"\n",
        "\n",
        "#about: \n",
        "  #id: hero-heading\n",
        "  #template: trestles\n",
        "  #image: images/logos/Neuro-iX-2-transparent-fluo.png\n",
        "  #image-shape: round\n",
        "  #image-width: 15em\n",
        "  #links:\n",
        "    #- icon: linkedin\n",
        "      #text: LinkedIn\n",
        "      #href: https://www.linkedin.com/search/results/all/?fetchDeterministicClustersOnly=true&heroEntityKey=urn%3Ali%3Afsd_profile%3AACoAAAE54G0B9SjSTi14XXga3b5V66C7b9BTXFI&keywords=sylvain%20bouix&origin=RICH_QUERY_TYPEAHEAD_HISTORY&position=0&searchId=90ed282e-d341-4c4e-8b36-131ab83ec6ea&sid=nWS\n",
        "      #target: _blank\n",
        "    #- icon: github\n",
        "      #text: GitHub\n",
        "      #href: https://github.com/Neuro-iX\n",
        "      #target: _blank\n",
        "    #- icon: envelope\n",
        "      #text: Email\n",
        "      #href: mailto:sylvain.bouix@etsmtl.ca   \n",
        "      #target: _blank\n",
        "    #- icon: images/icons/twitter.png\n",
        "    #  text: Twitter\n",
        "    #  href: https://twitter.com\n",
        "    #  target: _blank\n",
        "---"
      ],
      "id": "4bb16d61"
    },
    {
      "cell_type": "markdown",
      "metadata": {},
      "source": [
        ":::{#hero-heading}\n",
        ":::\n",
        "-->\n",
        "\n",
        "\n",
        "\n",
        "\n",
        ":::{.light-mode}\n",
        "![](images/logos/Neuro-iX-croped.png){fig-align=\"center\" width=200}\n",
        ":::\n",
        "\n",
        ":::{.dark-mode}\n",
        "![](images/logos/Neuro-iX-croped-modified.png){fig-align=\"center\" width=200}\n",
        ":::\n",
        "\n",
        "# {.centering .unnumbered .unlisted}\n",
        "<!--[{{< bi linkedin size=2em color=cornflowerblue label=\"Thumbs up\" >}}](https://www.linkedin.com/search/results/all/?fetchDeterministicClustersOnly=true&heroEntityKey=urn%3Ali%3Afsd_profile%3AACoAAAE54G0B9SjSTi14XXga3b5V66C7b9BTXFI&keywords=sylvain%20bouix&origin=RICH_QUERY_TYPEAHEAD_HISTORY&position=0&searchId=90ed282e-d341-4c4e-8b36-131ab83ec6ea&sid=nWS){target=\"_blank\"} \n",
        "[{{< bi github size=2em color=cornflowerblue label=\"Thumbs up\" >}}](https://github.com/Neuro-iX){target=\"_blank\"} \n",
        "[{{< bi envelope size=2em color=cornflowerblue label=\"Thumbs up\" >}}](mailto:sylvain.bouix@etsmtl.ca){target=\"_blank\"} \n",
        "-->\n",
        "Neuro-iX is directed by Sylvain Bouix, [Canada Research Chair](https://www.chairs-chaires.gc.ca/){target=\"_blank\"} in Neuroinformatics for Multimodal Data at [École de technologie supérieure](https://www.etsmtl.ca/){target=\"_blank\"}. This brand new lab revolves around developing robust softwares to analyse brain imaging and behavioral data for the study of mental disorders in particular [schizophrenia](https://www.ampscz.org/){target=\"_blank\"}, brain injury and [chronic traumatic encephalopathy](https://diagnosecte.com/){target=\"_blank\"}. \n",
        "\n",
        "We advocate [open science](https://science.gc.ca/site/science/en/open-science-helping-make-science-accessible-all-canadians){target=\"_blank\"} practices and the development of health technologies that are less [biased](https://www.nature.com/articles/s41467-017-00908-7){target=\"_blank\"}, more inclusive and equitable.\n",
        "\n",
        "<!--\n",
        "# New recruitment phase for 2025 !\n",
        "\n",
        "We are currently recruiting talented PhD applicants for the Winter 2025 or Summer 2025 sessions to work on neuroimaging projects including brain segmentation, diffusion MRI processing and more !\n",
        "\n",
        "Applicants are asked to prepare a CV, a cover letter and fill out this online form by <span style=\"color:#9A2A2A\">**October 31st 2024**</span>.\n",
        "\n",
        "We will consider outstanding applicants on a rolling basis for MSc and postdoctoral positions.\n",
        "Undergraduate and high school students are also welcome for short- and medium- term internships. We are committed to building a diverse environment. \n",
        "\n",
        "[Click here for the online form](https://docs.google.com/forms/d/e/1FAIpQLSfUGxxQXknK1EXk4omb1Iyi5yVZHz5zsrpesy027biK0POcrg/viewform){target=\"_blank\"}\n",
        "-->\n",
        "\n",
        "<!--\n",
        "# Recruitment\n",
        "\n",
        "We are currently recruiting talented applicants for MSc, PhD, postdocs positions. Undergraduate and high schooldta students are also welcome for short- and medium- term internships. We are committed to building a diverse environment. If you’re interested in working with us, please [fill out this form](https://docs.google.com/forms/d/e/1FAIpQLSfUGxxQXknK1EXk4omb1Iyi5yVZHz5zsrpesy027biK0POcrg/viewform){target=\"_blank\"}.\n",
        "-->\n"
      ],
      "id": "d00b766d"
    }
  ],
  "metadata": {
    "kernelspec": {
      "name": "python3",
      "language": "python",
      "display_name": "Python 3 (ipykernel)",
      "path": "/home/bverreman/miniconda3/envs/website/share/jupyter/kernels/python3"
    }
  },
  "nbformat": 4,
  "nbformat_minor": 5
}