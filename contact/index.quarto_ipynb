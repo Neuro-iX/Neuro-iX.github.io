{
  "cells": [
    {
      "cell_type": "markdown",
      "metadata": {},
      "source": [
        "---\n",
        "title: Contact\n",
        "jupyter: python3\n",
        "---\n",
        "\n",
        "\n",
        "If you’re interested in joining the lab, please [fill out this form](https://docs.google.com/forms/d/e/1FAIpQLSfUGxxQXknK1EXk4omb1Iyi5yVZHz5zsrpesy027biK0POcrg/viewform){target=\"_blank\"}.\n",
        "\n",
        "For all other enquiries email [Sylvain Bouix](mailto:sylvain.bouix@etsmtl.ca){target=\"_blank\"}."
      ],
      "id": "70d4f0f0"
    }
  ],
  "metadata": {
    "kernelspec": {
      "name": "python3",
      "language": "python",
      "display_name": "Python 3 (ipykernel)",
      "path": "/home/bverreman/miniconda3/envs/website/share/jupyter/kernels/python3"
    }
  },
  "nbformat": 4,
  "nbformat_minor": 5
}