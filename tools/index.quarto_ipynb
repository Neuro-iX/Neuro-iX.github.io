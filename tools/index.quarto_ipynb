{
  "cells": [
    {
      "cell_type": "markdown",
      "metadata": {},
      "source": [
        "---\n",
        "title: Tools\n",
        "jupyter: python3\n",
        "---\n",
        "\n",
        "## Software\n",
        "* [Agitation: Deep learning-based tool to quantify subject motion in T1-weighted brain MRI](https://github.com/Neuro-iX/agitation)\n",
        "* [MotionScore: Tool used to filter data before generating synthetic motion](https://github.com/Neuro-iX/MotionScore)\n",
        "* [Neuroimaging tools](https://github.com/pnlbwh/)\n",
        "* [Neuroinformatics for AMP-SCZ](https://github.com/orgs/AMP-SCZ)\n",
        "* [SlicerNeuroSegmentation](https://github.com/HOA-2/SlicerNeuroSegmentation)\n",
        "\n",
        "## Data\n",
        "* [Human Connectome for Early Psychosis](https://nda.nih.gov/general-query.html?q=query=featured-datasets:Connectomes%20Related%20to%20Human%20Disease)\n",
        "* [Harvard-Oxford Atlas 2.0](https://zenodo.org/communities/cma/records?q=&l=list&p=1&s=10&sort=newest)"
      ],
      "id": "2348fb48"
    }
  ],
  "metadata": {
    "kernelspec": {
      "name": "python3",
      "language": "python",
      "display_name": "Python 3 (ipykernel)",
      "path": "/home/bverreman/miniconda3/envs/website/share/jupyter/kernels/python3"
    }
  },
  "nbformat": 4,
  "nbformat_minor": 5
}