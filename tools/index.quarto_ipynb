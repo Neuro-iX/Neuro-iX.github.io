{
 "cells": [
  {
   "cell_type": "markdown",
   "id": "e61e62f9",
   "metadata": {},
   "source": [
    "---\n",
    "title: Tools\n",
    "jupyter: python3\n",
    "---\n",
    "\n",
    "## Software\n",
    "* [Neuroimaging tools](https://github.com/pnlbwh/)\n",
    "* [Neuroinformatics for AMP-SCZ](https://github.com/orgs/AMP-SCZ)\n",
    "* [SlicerNeuroSegmentation](https://github.com/HOA-2/SlicerNeuroSegmentation)\n",
    "\n",
    "## Data\n",
    "* [Human Connectome for Early Psychosis](https://nda.nih.gov/general-query.html?q=query=featured-datasets:Connectomes%20Related%20to%20Human%20Disease)\n",
    "* [Harvard-Oxford Atlas 2.0: Subcortical parcellations](https://github.com/HOA-2/SubcorticalParcellations)"
   ]
  }
 ],
 "metadata": {
  "kernelspec": {
   "display_name": "Python 3 (ipykernel)",
   "language": "python",
   "name": "python3",
   "path": "/home/bverreman/miniconda3/envs/website/share/jupyter/kernels/python3"
  },
  "language_info": {
   "codemirror_mode": {
    "name": "ipython",
    "version": 3
   },
   "file_extension": ".py",
   "mimetype": "text/x-python",
   "name": "python",
   "nbconvert_exporter": "python",
   "pygments_lexer": "ipython3",
   "version": "3.10.18"
  }
 },
 "nbformat": 4,
 "nbformat_minor": 5
}
