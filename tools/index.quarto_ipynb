{
  "cells": [
    {
      "cell_type": "markdown",
      "metadata": {},
      "source": [
        "---\n",
        "title: Tools\n",
        "jupyter: python3\n",
        "---\n",
        "\n",
        "## Software\n",
        "* [Neuroimaging tools](https://github.com/pnlbwh/)\n",
        "* [Neuroinformatics for AMP-SCZ](https://github.com/orgs/AMP-SCZ)\n",
        "* [SlicerNeuroSegmentation](https://github.com/HOA-2/SlicerNeuroSegmentation)\n",
        "\n",
        "## Data\n",
        "* [Human Connectome for Early Psychosis](https://nda.nih.gov/general-query.html?q=query=featured-datasets:Connectomes%20Related%20to%20Human%20Disease)\n",
        "* [Harvard-Oxford Atlas 2.0: Subcortical parcellations](https://github.com/HOA-2/SubcorticalParcellations)"
      ],
      "id": "46a14d26"
    }
  ],
  "metadata": {
    "kernelspec": {
      "name": "python3",
      "language": "python",
      "display_name": "Python 3 (ipykernel)",
      "path": "/home/bverreman/miniconda3/envs/rpy/share/jupyter/kernels/python3"
    }
  },
  "nbformat": 4,
  "nbformat_minor": 5
}